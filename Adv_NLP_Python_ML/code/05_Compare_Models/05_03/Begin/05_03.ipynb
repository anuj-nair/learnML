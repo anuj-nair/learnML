{
 "cells": [
  {
   "cell_type": "markdown",
   "metadata": {},
   "source": [
    "# Compare NLP Techniques: Build Model On word2vec Vectors"
   ]
  },
  {
   "cell_type": "markdown",
   "metadata": {},
   "source": [
    "### Read In Cleaned Text"
   ]
  },
  {
   "cell_type": "code",
   "execution_count": 1,
   "metadata": {},
   "outputs": [],
   "source": [
    "# Load the cleaned training and test sets\n",
    "import gensim\n",
    "import numpy as np\n",
    "import pandas as pd\n",
    "\n",
    "X_train = pd.read_csv('../../../data/X_train.csv')\n",
    "X_test = pd.read_csv('../../../data/X_test.csv')\n",
    "y_train = pd.read_csv('../../../data/y_train.csv')\n",
    "y_test = pd.read_csv('../../../data/y_test.csv')"
   ]
  },
  {
   "cell_type": "markdown",
   "metadata": {},
   "source": [
    "### Create word2vec Vectors"
   ]
  },
  {
   "cell_type": "code",
   "execution_count": 2,
   "metadata": {},
   "outputs": [],
   "source": [
    "# Train a basic word2vec model\n",
    "w2v_model = gensim.models.Word2Vec(X_train,\n",
    "                                   size=100,\n",
    "                                   window=5,\n",
    "                                   min_count=2)"
   ]
  },
  {
   "cell_type": "code",
   "execution_count": 4,
   "metadata": {},
   "outputs": [
    {
     "name": "stderr",
     "output_type": "stream",
     "text": [
      "/home/cherry/documents/projects/learnDataScience/machineLearning/Adv_NLP_Python_ML/venv/lib/python3.6/site-packages/ipykernel_launcher.py:4: VisibleDeprecationWarning: Creating an ndarray from ragged nested sequences (which is a list-or-tuple of lists-or-tuples-or ndarrays with different lengths or shapes) is deprecated. If you meant to do this, you must specify 'dtype=object' when creating the ndarray\n",
      "  after removing the cwd from sys.path.\n",
      "/home/cherry/documents/projects/learnDataScience/machineLearning/Adv_NLP_Python_ML/venv/lib/python3.6/site-packages/ipykernel_launcher.py:6: VisibleDeprecationWarning: Creating an ndarray from ragged nested sequences (which is a list-or-tuple of lists-or-tuples-or ndarrays with different lengths or shapes) is deprecated. If you meant to do this, you must specify 'dtype=object' when creating the ndarray\n",
      "  \n"
     ]
    }
   ],
   "source": [
    "# Replace the words in each text message with the learned word vector\n",
    "words = set(w2v_model.wv.index2word)\n",
    "X_train_vect = np.array([np.array([w2v_model.wv[i] for i in ls if i in words])\n",
    "                         for ls in X_train['clean_text']])\n",
    "X_test_vect = np.array([np.array([w2v_model.wv[i] for i in ls if i in words])\n",
    "                         for ls in X_test['clean_text']])"
   ]
  },
  {
   "cell_type": "code",
   "execution_count": 5,
   "metadata": {},
   "outputs": [],
   "source": [
    "# Average the word vectors for each sentence (and assign a vector of zeros if the model\n",
    "# did not learn any of the words in the text message during training\n",
    "X_train_vect_avg = []\n",
    "for v in X_train_vect:\n",
    "    if v.size:\n",
    "        X_train_vect_avg.append(v.mean(axis=0))\n",
    "    else:\n",
    "        X_train_vect_avg.append(np.zeros(100, dtype=float))\n",
    "        \n",
    "X_test_vect_avg = []\n",
    "for v in X_test_vect:\n",
    "    if v.size:\n",
    "        X_test_vect_avg.append(v.mean(axis=0))\n",
    "    else:\n",
    "        X_test_vect_avg.append(np.zeros(100, dtype=float))"
   ]
  },
  {
   "cell_type": "code",
   "execution_count": 6,
   "metadata": {},
   "outputs": [
    {
     "data": {
      "text/plain": [
       "array([[-0.00384351, -0.00394247, -0.00390022,  0.00192951, -0.00309063,\n",
       "        -0.00385922, -0.00446761, -0.00021046, -0.00306967, -0.00063658,\n",
       "        -0.00223586, -0.00033802,  0.00423961,  0.00039754,  0.00475842,\n",
       "        -0.00261165,  0.00219575, -0.00346471, -0.00245117,  0.00200349,\n",
       "        -0.00106253, -0.00180041,  0.00174103, -0.00077727,  0.00227746,\n",
       "        -0.00280013,  0.00397571,  0.00079452, -0.00040931, -0.0042494 ,\n",
       "        -0.0042759 , -0.00103996, -0.0013569 ,  0.00138008,  0.00026145,\n",
       "        -0.0006727 ,  0.00227036,  0.00141514, -0.00489185, -0.00336901,\n",
       "         0.00275691,  0.00421509,  0.00268406, -0.00478705,  0.00093469,\n",
       "        -0.00189115, -0.00494519,  0.00166919,  0.0003545 ,  0.00404843,\n",
       "        -0.00335258, -0.00372556,  0.00142032,  0.00195562,  0.00180276,\n",
       "        -0.00129065, -0.00030903,  0.00225197, -0.0005384 ,  0.00023738,\n",
       "         0.00010827, -0.00377346,  0.0033225 ,  0.00310372, -0.00497917,\n",
       "        -0.00214435, -0.00237416, -0.00101849,  0.00204516,  0.00273547,\n",
       "        -0.0043559 ,  0.00450628,  0.00035616, -0.00314578,  0.00382449,\n",
       "         0.00137798,  0.00128256,  0.00201058, -0.00419699, -0.00041599,\n",
       "        -0.0033598 , -0.00132776, -0.00261099,  0.00313161, -0.00469962,\n",
       "         0.00308007, -0.00100047,  0.00083678,  0.00495513,  0.00434252,\n",
       "         0.00029286,  0.00195545,  0.00069539, -0.00078172,  0.00201276,\n",
       "        -0.0014718 ,  0.00480498,  0.00307215, -0.00400532,  0.00324862]],\n",
       "      dtype=float32)"
      ]
     },
     "execution_count": 6,
     "metadata": {},
     "output_type": "execute_result"
    }
   ],
   "source": [
    "# What does the unaveraged version look like?\n",
    "X_train_vect[0]"
   ]
  },
  {
   "cell_type": "code",
   "execution_count": 7,
   "metadata": {},
   "outputs": [
    {
     "data": {
      "text/plain": [
       "array([-0.00384351, -0.00394247, -0.00390022,  0.00192951, -0.00309063,\n",
       "       -0.00385922, -0.00446761, -0.00021046, -0.00306967, -0.00063658,\n",
       "       -0.00223586, -0.00033802,  0.00423961,  0.00039754,  0.00475842,\n",
       "       -0.00261165,  0.00219575, -0.00346471, -0.00245117,  0.00200349,\n",
       "       -0.00106253, -0.00180041,  0.00174103, -0.00077727,  0.00227746,\n",
       "       -0.00280013,  0.00397571,  0.00079452, -0.00040931, -0.0042494 ,\n",
       "       -0.0042759 , -0.00103996, -0.0013569 ,  0.00138008,  0.00026145,\n",
       "       -0.0006727 ,  0.00227036,  0.00141514, -0.00489185, -0.00336901,\n",
       "        0.00275691,  0.00421509,  0.00268406, -0.00478705,  0.00093469,\n",
       "       -0.00189115, -0.00494519,  0.00166919,  0.0003545 ,  0.00404843,\n",
       "       -0.00335258, -0.00372556,  0.00142032,  0.00195562,  0.00180276,\n",
       "       -0.00129065, -0.00030903,  0.00225197, -0.0005384 ,  0.00023738,\n",
       "        0.00010827, -0.00377346,  0.0033225 ,  0.00310372, -0.00497917,\n",
       "       -0.00214435, -0.00237416, -0.00101849,  0.00204516,  0.00273547,\n",
       "       -0.0043559 ,  0.00450628,  0.00035616, -0.00314578,  0.00382449,\n",
       "        0.00137798,  0.00128256,  0.00201058, -0.00419699, -0.00041599,\n",
       "       -0.0033598 , -0.00132776, -0.00261099,  0.00313161, -0.00469962,\n",
       "        0.00308007, -0.00100047,  0.00083678,  0.00495513,  0.00434252,\n",
       "        0.00029286,  0.00195545,  0.00069539, -0.00078172,  0.00201276,\n",
       "       -0.0014718 ,  0.00480498,  0.00307215, -0.00400532,  0.00324862],\n",
       "      dtype=float32)"
      ]
     },
     "execution_count": 7,
     "metadata": {},
     "output_type": "execute_result"
    }
   ],
   "source": [
    "# What does the averaged version look like?\n",
    "X_train_vect_avg[0]"
   ]
  },
  {
   "cell_type": "markdown",
   "metadata": {},
   "source": [
    "### Fit RandomForestClassifier On Top Of Word Vectors"
   ]
  },
  {
   "cell_type": "code",
   "execution_count": 11,
   "metadata": {},
   "outputs": [],
   "source": [
    "# Instantiate and fit a basic Random Forest model on top of the vectors\n",
    "from sklearn.ensemble import RandomForestClassifier\n",
    "\n",
    "rf = RandomForestClassifier()\n",
    "rf_model = rf.fit(X_train_vect_avg, y_train.values.ravel())"
   ]
  },
  {
   "cell_type": "code",
   "execution_count": 12,
   "metadata": {},
   "outputs": [],
   "source": [
    "# Use the trained model to make predictions on the test data\n",
    "y_pred = rf_model.predict(X_test_vect_avg)"
   ]
  },
  {
   "cell_type": "code",
   "execution_count": 13,
   "metadata": {},
   "outputs": [
    {
     "name": "stdout",
     "output_type": "stream",
     "text": [
      "Precision: 0.48 / Recall: 0.166 / Accuracy: 0.868\n"
     ]
    }
   ],
   "source": [
    "# Evaluate the predictions of the model on the holdout test set\n",
    "from sklearn.metrics import precision_score, recall_score\n",
    "\n",
    "precision = precision_score(y_test, y_pred)\n",
    "recall = recall_score(y_test, y_pred)\n",
    "print('Precision: {} / Recall: {} / Accuracy: {}'.format(\n",
    "    round(precision, 3), round(recall, 3), round((y_pred==y_test['label']).sum()/len(y_pred), 3)))"
   ]
  },
  {
   "cell_type": "code",
   "execution_count": null,
   "metadata": {},
   "outputs": [],
   "source": []
  }
 ],
 "metadata": {
  "kernelspec": {
   "display_name": "Python 3",
   "language": "python",
   "name": "python3"
  },
  "language_info": {
   "codemirror_mode": {
    "name": "ipython",
    "version": 3
   },
   "file_extension": ".py",
   "mimetype": "text/x-python",
   "name": "python",
   "nbconvert_exporter": "python",
   "pygments_lexer": "ipython3",
   "version": "3.6.13"
  }
 },
 "nbformat": 4,
 "nbformat_minor": 2
}
