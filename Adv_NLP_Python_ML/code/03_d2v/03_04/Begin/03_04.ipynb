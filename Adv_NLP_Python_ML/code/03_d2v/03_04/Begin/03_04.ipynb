{
 "cells": [
  {
   "cell_type": "markdown",
   "metadata": {},
   "source": [
    "# doc2vec: How To Prep Document Vectors For Modeling"
   ]
  },
  {
   "cell_type": "markdown",
   "metadata": {},
   "source": [
    "### Train Our Own Model"
   ]
  },
  {
   "cell_type": "code",
   "execution_count": 1,
   "metadata": {},
   "outputs": [],
   "source": [
    "# Read in data, clean it, split it into train/test, and then train a doc2vec model\n",
    "import gensim\n",
    "import pandas as pd\n",
    "from sklearn.model_selection import train_test_split\n",
    "pd.set_option('display.max_colwidth', 100)\n",
    "\n",
    "messages = pd.read_csv('../../../data/spam.csv', encoding='latin-1')\n",
    "messages = messages.drop(labels = [\"Unnamed: 2\", \"Unnamed: 3\", \"Unnamed: 4\"], axis = 1)\n",
    "messages.columns = [\"label\", \"text\"]\n",
    "messages['text_clean'] = messages['text'].apply(lambda x: gensim.utils.simple_preprocess(x))\n",
    "\n",
    "X_train, X_test, y_train, y_test = train_test_split(messages['text_clean'],\n",
    "                                                    messages['label'], test_size=0.2)\n",
    "\n",
    "tagged_docs_tr = [gensim.models.doc2vec.TaggedDocument(v, [i]) for i, v in enumerate(X_train)]\n",
    "\n",
    "d2v_model = gensim.models.Doc2Vec(tagged_docs_tr,\n",
    "                                  vector_size=50,\n",
    "                                  window=2,\n",
    "                                  min_count=2)"
   ]
  },
  {
   "cell_type": "code",
   "execution_count": 2,
   "metadata": {},
   "outputs": [
    {
     "data": {
      "text/plain": [
       "array([-0.00588657, -0.01345497, -0.0076227 ,  0.00787828, -0.00113796,\n",
       "        0.01318541, -0.00376362,  0.00806833,  0.00462006, -0.01070249,\n",
       "        0.00335836,  0.00533027, -0.00154249, -0.00931606, -0.01430388,\n",
       "       -0.00493495,  0.00975425, -0.00676674, -0.0057654 , -0.01142108,\n",
       "        0.00028353, -0.02805323, -0.00432609, -0.00346047,  0.00236725,\n",
       "        0.01428846,  0.0292182 ,  0.02183636, -0.00208064, -0.00651421,\n",
       "        0.02450396,  0.00241505, -0.00539691,  0.01151233, -0.01798362,\n",
       "       -0.01583771, -0.01738526, -0.01745554, -0.02965207, -0.01739364,\n",
       "        0.00988218, -0.00882445, -0.0020293 , -0.00030057, -0.00246003,\n",
       "        0.00488268,  0.00261389, -0.01081261, -0.01558405,  0.01303649],\n",
       "      dtype=float32)"
      ]
     },
     "execution_count": 2,
     "metadata": {},
     "output_type": "execute_result"
    }
   ],
   "source": [
    "# What does a document vector look like again?\n",
    "d2v_model.infer_vector(['convert', 'words', 'to', 'vectors'])"
   ]
  },
  {
   "cell_type": "code",
   "execution_count": 3,
   "metadata": {},
   "outputs": [],
   "source": [
    "# How do we prepare these vectors to be used in a machine learning model?\n",
    "vectors = [[d2v_model.infer_vector(words)] for words in X_test]"
   ]
  },
  {
   "cell_type": "code",
   "execution_count": 5,
   "metadata": {
    "scrolled": true
   },
   "outputs": [
    {
     "data": {
      "text/plain": [
       "[array([-0.00994322, -0.02535141, -0.0275706 ,  0.0372186 , -0.03277962,\n",
       "         0.01409951, -0.03063007,  0.02595884,  0.01317524, -0.02486182,\n",
       "        -0.00188695,  0.03218062, -0.00251159, -0.03683198, -0.02507444,\n",
       "         0.00670246,  0.01665619, -0.00267003, -0.0194735 , -0.02742641,\n",
       "        -0.01149104, -0.06658466,  0.00973215, -0.00953486, -0.00759479,\n",
       "         0.05388751,  0.07324857,  0.06694961, -0.02278406, -0.02971641,\n",
       "         0.0495635 , -0.01989276,  0.01462067,  0.04861971, -0.0159816 ,\n",
       "        -0.05355471, -0.03093127, -0.05416853, -0.08206316, -0.04864466,\n",
       "         0.02117483, -0.04071914, -0.00108404,  0.01389418, -0.02505872,\n",
       "        -0.00552049,  0.00310575, -0.04724972, -0.03109674,  0.0138714 ],\n",
       "       dtype=float32)]"
      ]
     },
     "execution_count": 5,
     "metadata": {},
     "output_type": "execute_result"
    }
   ],
   "source": [
    "vectors[0]"
   ]
  },
  {
   "cell_type": "code",
   "execution_count": null,
   "metadata": {},
   "outputs": [],
   "source": []
  }
 ],
 "metadata": {
  "kernelspec": {
   "display_name": "Python 3",
   "language": "python",
   "name": "python3"
  },
  "language_info": {
   "codemirror_mode": {
    "name": "ipython",
    "version": 3
   },
   "file_extension": ".py",
   "mimetype": "text/x-python",
   "name": "python",
   "nbconvert_exporter": "python",
   "pygments_lexer": "ipython3",
   "version": "3.6.13"
  }
 },
 "nbformat": 4,
 "nbformat_minor": 1
}
