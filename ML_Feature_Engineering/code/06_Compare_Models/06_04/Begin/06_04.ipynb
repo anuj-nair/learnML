{
 "cells": [
  {
   "cell_type": "markdown",
   "metadata": {},
   "source": [
    "## Build Models To Compare Features: All Features"
   ]
  },
  {
   "cell_type": "markdown",
   "metadata": {},
   "source": [
    "### Read In Data"
   ]
  },
  {
   "cell_type": "code",
   "execution_count": 1,
   "metadata": {},
   "outputs": [
    {
     "data": {
      "text/html": [
       "<div>\n",
       "<style scoped>\n",
       "    .dataframe tbody tr th:only-of-type {\n",
       "        vertical-align: middle;\n",
       "    }\n",
       "\n",
       "    .dataframe tbody tr th {\n",
       "        vertical-align: top;\n",
       "    }\n",
       "\n",
       "    .dataframe thead th {\n",
       "        text-align: right;\n",
       "    }\n",
       "</style>\n",
       "<table border=\"1\" class=\"dataframe\">\n",
       "  <thead>\n",
       "    <tr style=\"text-align: right;\">\n",
       "      <th></th>\n",
       "      <th>Pclass</th>\n",
       "      <th>Sex</th>\n",
       "      <th>Age_clean</th>\n",
       "      <th>SibSp</th>\n",
       "      <th>Parch</th>\n",
       "      <th>Fare_clean</th>\n",
       "      <th>Fare_clean_tr</th>\n",
       "      <th>Cabin</th>\n",
       "      <th>Cabin_ind</th>\n",
       "      <th>Embarked_clean</th>\n",
       "      <th>Title</th>\n",
       "      <th>Family_cnt</th>\n",
       "    </tr>\n",
       "  </thead>\n",
       "  <tbody>\n",
       "    <tr>\n",
       "      <th>0</th>\n",
       "      <td>2</td>\n",
       "      <td>1</td>\n",
       "      <td>62.0</td>\n",
       "      <td>0</td>\n",
       "      <td>0</td>\n",
       "      <td>10.5000</td>\n",
       "      <td>1.600434</td>\n",
       "      <td>54</td>\n",
       "      <td>0</td>\n",
       "      <td>3</td>\n",
       "      <td>3</td>\n",
       "      <td>0</td>\n",
       "    </tr>\n",
       "    <tr>\n",
       "      <th>1</th>\n",
       "      <td>3</td>\n",
       "      <td>1</td>\n",
       "      <td>8.0</td>\n",
       "      <td>4</td>\n",
       "      <td>1</td>\n",
       "      <td>29.1250</td>\n",
       "      <td>1.962697</td>\n",
       "      <td>54</td>\n",
       "      <td>0</td>\n",
       "      <td>2</td>\n",
       "      <td>14</td>\n",
       "      <td>5</td>\n",
       "    </tr>\n",
       "    <tr>\n",
       "      <th>2</th>\n",
       "      <td>3</td>\n",
       "      <td>1</td>\n",
       "      <td>32.0</td>\n",
       "      <td>0</td>\n",
       "      <td>0</td>\n",
       "      <td>56.4958</td>\n",
       "      <td>2.240801</td>\n",
       "      <td>54</td>\n",
       "      <td>0</td>\n",
       "      <td>3</td>\n",
       "      <td>3</td>\n",
       "      <td>0</td>\n",
       "    </tr>\n",
       "    <tr>\n",
       "      <th>3</th>\n",
       "      <td>3</td>\n",
       "      <td>0</td>\n",
       "      <td>20.0</td>\n",
       "      <td>1</td>\n",
       "      <td>0</td>\n",
       "      <td>9.8250</td>\n",
       "      <td>1.579307</td>\n",
       "      <td>54</td>\n",
       "      <td>0</td>\n",
       "      <td>3</td>\n",
       "      <td>15</td>\n",
       "      <td>1</td>\n",
       "    </tr>\n",
       "    <tr>\n",
       "      <th>4</th>\n",
       "      <td>2</td>\n",
       "      <td>0</td>\n",
       "      <td>28.0</td>\n",
       "      <td>0</td>\n",
       "      <td>0</td>\n",
       "      <td>13.0000</td>\n",
       "      <td>1.670278</td>\n",
       "      <td>54</td>\n",
       "      <td>0</td>\n",
       "      <td>3</td>\n",
       "      <td>15</td>\n",
       "      <td>0</td>\n",
       "    </tr>\n",
       "  </tbody>\n",
       "</table>\n",
       "</div>"
      ],
      "text/plain": [
       "   Pclass  Sex  Age_clean  SibSp  Parch  Fare_clean  Fare_clean_tr  Cabin  \\\n",
       "0       2    1       62.0      0      0     10.5000       1.600434     54   \n",
       "1       3    1        8.0      4      1     29.1250       1.962697     54   \n",
       "2       3    1       32.0      0      0     56.4958       2.240801     54   \n",
       "3       3    0       20.0      1      0      9.8250       1.579307     54   \n",
       "4       2    0       28.0      0      0     13.0000       1.670278     54   \n",
       "\n",
       "   Cabin_ind  Embarked_clean  Title  Family_cnt  \n",
       "0          0               3      3           0  \n",
       "1          0               2     14           5  \n",
       "2          0               3      3           0  \n",
       "3          0               3     15           1  \n",
       "4          0               3     15           0  "
      ]
     },
     "execution_count": 1,
     "metadata": {},
     "output_type": "execute_result"
    }
   ],
   "source": [
    "# Read in data\n",
    "import joblib\n",
    "import matplotlib.pyplot as plt\n",
    "import numpy as np\n",
    "import pandas as pd\n",
    "import seaborn as sns\n",
    "from sklearn.ensemble import RandomForestClassifier\n",
    "from sklearn.model_selection import GridSearchCV\n",
    "%matplotlib inline\n",
    "\n",
    "train_features = pd.read_csv('../../../data/final_data/train_features_all.csv')\n",
    "train_labels = pd.read_csv('../../../data/final_data/train_labels.csv')\n",
    "\n",
    "train_features.head()"
   ]
  },
  {
   "cell_type": "code",
   "execution_count": 2,
   "metadata": {},
   "outputs": [
    {
     "data": {
      "text/plain": [
       "<AxesSubplot:>"
      ]
     },
     "execution_count": 2,
     "metadata": {},
     "output_type": "execute_result"
    },
    {
     "data": {
      "image/png": "[encoded data removed]",
      "text/plain": [
       "<Figure size 432x288 with 2 Axes>"
      ]
     },
     "metadata": {
      "needs_background": "light"
     },
     "output_type": "display_data"
    }
   ],
   "source": [
    "# Generate correlation matrix heat map\n",
    "matrix = np.triu(train_features.corr())\n",
    "sns.heatmap(train_features.corr(), annot=True, fmt='.1f', vmin=-1, vmax=1, center= 0, cmap= 'coolwarm', mask=matrix)"
   ]
  },
  {
   "cell_type": "markdown",
   "metadata": {},
   "source": [
    "### GridSearchCV"
   ]
  },
  {
   "cell_type": "code",
   "execution_count": 3,
   "metadata": {},
   "outputs": [],
   "source": [
    "def print_results(results):\n",
    "    print('BEST PARAMS: {}\\n'.format(results.best_params_))\n",
    "\n",
    "    means = results.cv_results_['mean_test_score']\n",
    "    stds = results.cv_results_['std_test_score']\n",
    "    for mean, std, params in zip(means, stds, results.cv_results_['params']):\n",
    "        print('{} (+/-{}) for {}'.format(round(mean, 3), round(std * 2, 3), params))"
   ]
  },
  {
   "cell_type": "code",
   "execution_count": 4,
   "metadata": {},
   "outputs": [
    {
     "name": "stdout",
     "output_type": "stream",
     "text": [
      "BEST PARAMS: {'max_depth': 8, 'n_estimators': 32}\n",
      "\n",
      "0.8 (+/-0.106) for {'max_depth': 2, 'n_estimators': 8}\n",
      "0.787 (+/-0.117) for {'max_depth': 2, 'n_estimators': 16}\n",
      "0.787 (+/-0.115) for {'max_depth': 2, 'n_estimators': 32}\n",
      "0.798 (+/-0.124) for {'max_depth': 2, 'n_estimators': 64}\n",
      "0.803 (+/-0.116) for {'max_depth': 2, 'n_estimators': 128}\n",
      "0.805 (+/-0.114) for {'max_depth': 2, 'n_estimators': 256}\n",
      "0.802 (+/-0.126) for {'max_depth': 2, 'n_estimators': 512}\n",
      "0.822 (+/-0.09) for {'max_depth': 4, 'n_estimators': 8}\n",
      "0.83 (+/-0.077) for {'max_depth': 4, 'n_estimators': 16}\n",
      "0.837 (+/-0.084) for {'max_depth': 4, 'n_estimators': 32}\n",
      "0.837 (+/-0.085) for {'max_depth': 4, 'n_estimators': 64}\n",
      "0.835 (+/-0.09) for {'max_depth': 4, 'n_estimators': 128}\n",
      "0.832 (+/-0.087) for {'max_depth': 4, 'n_estimators': 256}\n",
      "0.835 (+/-0.078) for {'max_depth': 4, 'n_estimators': 512}\n",
      "0.826 (+/-0.087) for {'max_depth': 8, 'n_estimators': 8}\n",
      "0.833 (+/-0.047) for {'max_depth': 8, 'n_estimators': 16}\n",
      "0.839 (+/-0.038) for {'max_depth': 8, 'n_estimators': 32}\n",
      "0.833 (+/-0.051) for {'max_depth': 8, 'n_estimators': 64}\n",
      "0.837 (+/-0.048) for {'max_depth': 8, 'n_estimators': 128}\n",
      "0.837 (+/-0.043) for {'max_depth': 8, 'n_estimators': 256}\n",
      "0.839 (+/-0.046) for {'max_depth': 8, 'n_estimators': 512}\n",
      "0.815 (+/-0.032) for {'max_depth': 16, 'n_estimators': 8}\n",
      "0.807 (+/-0.034) for {'max_depth': 16, 'n_estimators': 16}\n",
      "0.822 (+/-0.053) for {'max_depth': 16, 'n_estimators': 32}\n",
      "0.828 (+/-0.05) for {'max_depth': 16, 'n_estimators': 64}\n",
      "0.817 (+/-0.041) for {'max_depth': 16, 'n_estimators': 128}\n",
      "0.822 (+/-0.062) for {'max_depth': 16, 'n_estimators': 256}\n",
      "0.817 (+/-0.056) for {'max_depth': 16, 'n_estimators': 512}\n",
      "0.824 (+/-0.045) for {'max_depth': 32, 'n_estimators': 8}\n",
      "0.817 (+/-0.029) for {'max_depth': 32, 'n_estimators': 16}\n",
      "0.818 (+/-0.052) for {'max_depth': 32, 'n_estimators': 32}\n",
      "0.82 (+/-0.05) for {'max_depth': 32, 'n_estimators': 64}\n",
      "0.83 (+/-0.038) for {'max_depth': 32, 'n_estimators': 128}\n",
      "0.818 (+/-0.045) for {'max_depth': 32, 'n_estimators': 256}\n",
      "0.82 (+/-0.041) for {'max_depth': 32, 'n_estimators': 512}\n",
      "0.811 (+/-0.052) for {'max_depth': None, 'n_estimators': 8}\n",
      "0.828 (+/-0.053) for {'max_depth': None, 'n_estimators': 16}\n",
      "0.817 (+/-0.053) for {'max_depth': None, 'n_estimators': 32}\n",
      "0.816 (+/-0.05) for {'max_depth': None, 'n_estimators': 64}\n",
      "0.817 (+/-0.041) for {'max_depth': None, 'n_estimators': 128}\n",
      "0.82 (+/-0.054) for {'max_depth': None, 'n_estimators': 256}\n",
      "0.82 (+/-0.047) for {'max_depth': None, 'n_estimators': 512}\n"
     ]
    }
   ],
   "source": [
    "# Conduct search for best params while running cross-validation (GridSearchCV)\n",
    "rf = RandomForestClassifier()\n",
    "parameters = {\n",
    "    'n_estimators': [2**i for i in range(3, 10)],\n",
    "    'max_depth': [2, 4, 8, 16, 32, None]\n",
    "}\n",
    "cv = GridSearchCV(rf, parameters, cv=5)\n",
    "cv.fit(train_features, train_labels.values.ravel())\n",
    "\n",
    "print_results(cv)"
   ]
  },
  {
   "cell_type": "markdown",
   "metadata": {},
   "source": [
    "### Feature Importance"
   ]
  },
  {
   "cell_type": "code",
   "execution_count": 5,
   "metadata": {},
   "outputs": [
    {
     "data": {
      "image/png": "[encoded data removed]",
      "text/plain": [
       "<Figure size 432x288 with 1 Axes>"
      ]
     },
     "metadata": {
      "needs_background": "light"
     },
     "output_type": "display_data"
    }
   ],
   "source": [
    "# Generate feature importance plot\n",
    "feat_imp = cv.best_estimator_.feature_importances_\n",
    "indices = np.argsort(feat_imp)\n",
    "plt.yticks(range(len(indices)), [train_features.columns[i] for i in indices])\n",
    "plt.barh(range(len(indices)), feat_imp[indices], color='r', align='center')\n",
    "plt.show()"
   ]
  },
  {
   "cell_type": "markdown",
   "metadata": {},
   "source": [
    "### Write Out Pickled Model"
   ]
  },
  {
   "cell_type": "code",
   "execution_count": 6,
   "metadata": {},
   "outputs": [
    {
     "data": {
      "text/plain": [
       "['../../../models/mdl_all_features.pkl']"
      ]
     },
     "execution_count": 6,
     "metadata": {},
     "output_type": "execute_result"
    }
   ],
   "source": [
    "# Write out the model fit on the whole training set\n",
    "joblib.dump(cv.best_estimator_, '../../../models/mdl_all_features.pkl')"
   ]
  },
  {
   "cell_type": "code",
   "execution_count": null,
   "metadata": {},
   "outputs": [],
   "source": []
  }
 ],
 "metadata": {
  "kernelspec": {
   "display_name": "Python 3",
   "language": "python",
   "name": "python3"
  },
  "language_info": {
   "codemirror_mode": {
    "name": "ipython",
    "version": 3
   },
   "file_extension": ".py",
   "mimetype": "text/x-python",
   "name": "python",
   "nbconvert_exporter": "python",
   "pygments_lexer": "ipython3",
   "version": "3.6.13"
  }
 },
 "nbformat": 4,
 "nbformat_minor": 2
}
